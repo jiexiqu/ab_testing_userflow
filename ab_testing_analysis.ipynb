{
 "cells": [
  {
   "cell_type": "code",
   "execution_count": 2,
   "metadata": {},
   "outputs": [],
   "source": [
    "import pandas as pd\n",
    "import numpy as np\n",
    "import matplotlib.pyplot as plt\n",
    "%matplotlib inline\n",
    "\n",
    "from scipy.stats import norm\n",
    "from statsmodels.stats.proportion import proportions_ztest\n",
    "import math"
   ]
  },
  {
   "cell_type": "code",
   "execution_count": 3,
   "metadata": {},
   "outputs": [],
   "source": [
    "data_df = pd.read_csv('data.csv', header=None, names = ['metric', 'estimate_baseline_value'])"
   ]
  },
  {
   "cell_type": "code",
   "execution_count": 4,
   "metadata": {},
   "outputs": [
    {
     "data": {
      "text/html": [
       "<div>\n",
       "<style scoped>\n",
       "    .dataframe tbody tr th:only-of-type {\n",
       "        vertical-align: middle;\n",
       "    }\n",
       "\n",
       "    .dataframe tbody tr th {\n",
       "        vertical-align: top;\n",
       "    }\n",
       "\n",
       "    .dataframe thead th {\n",
       "        text-align: right;\n",
       "    }\n",
       "</style>\n",
       "<table border=\"1\" class=\"dataframe\">\n",
       "  <thead>\n",
       "    <tr style=\"text-align: right;\">\n",
       "      <th></th>\n",
       "      <th>metric</th>\n",
       "      <th>estimate_baseline_value</th>\n",
       "    </tr>\n",
       "  </thead>\n",
       "  <tbody>\n",
       "    <tr>\n",
       "      <th>0</th>\n",
       "      <td>Unique cookies to view course overview page pe...</td>\n",
       "      <td>40000.000000</td>\n",
       "    </tr>\n",
       "    <tr>\n",
       "      <th>1</th>\n",
       "      <td>Unique cookies to click \"Start free trial\" per...</td>\n",
       "      <td>3200.000000</td>\n",
       "    </tr>\n",
       "    <tr>\n",
       "      <th>2</th>\n",
       "      <td>Enrollments per day:</td>\n",
       "      <td>660.000000</td>\n",
       "    </tr>\n",
       "    <tr>\n",
       "      <th>3</th>\n",
       "      <td>Click-through-probability on \"Start free trial\":</td>\n",
       "      <td>0.080000</td>\n",
       "    </tr>\n",
       "    <tr>\n",
       "      <th>4</th>\n",
       "      <td>Probability of enrolling, given click:</td>\n",
       "      <td>0.206250</td>\n",
       "    </tr>\n",
       "    <tr>\n",
       "      <th>5</th>\n",
       "      <td>Probability of payment, given enroll:</td>\n",
       "      <td>0.530000</td>\n",
       "    </tr>\n",
       "    <tr>\n",
       "      <th>6</th>\n",
       "      <td>Probability of payment, given click</td>\n",
       "      <td>0.109313</td>\n",
       "    </tr>\n",
       "  </tbody>\n",
       "</table>\n",
       "</div>"
      ],
      "text/plain": [
       "                                              metric  estimate_baseline_value\n",
       "0  Unique cookies to view course overview page pe...             40000.000000\n",
       "1  Unique cookies to click \"Start free trial\" per...              3200.000000\n",
       "2                               Enrollments per day:               660.000000\n",
       "3   Click-through-probability on \"Start free trial\":                 0.080000\n",
       "4             Probability of enrolling, given click:                 0.206250\n",
       "5              Probability of payment, given enroll:                 0.530000\n",
       "6                Probability of payment, given click                 0.109313"
      ]
     },
     "execution_count": 4,
     "metadata": {},
     "output_type": "execute_result"
    }
   ],
   "source": [
    "data_df"
   ]
  },
  {
   "cell_type": "code",
   "execution_count": 5,
   "metadata": {},
   "outputs": [],
   "source": [
    "pd.set_option('max_colwidth', None)"
   ]
  },
  {
   "cell_type": "code",
   "execution_count": 6,
   "metadata": {},
   "outputs": [],
   "source": [
    "data_df['metric'] = data_df.metric.str.lower()"
   ]
  },
  {
   "cell_type": "code",
   "execution_count": 7,
   "metadata": {},
   "outputs": [],
   "source": [
    "metric_name = ['number of cookies', 'number of clicks', 'number of enrollments','CTP','gross conversion','retention','net conversion']\n",
    "data_df['metric_name'] = metric_name"
   ]
  },
  {
   "cell_type": "code",
   "execution_count": 8,
   "metadata": {
    "scrolled": true
   },
   "outputs": [
    {
     "data": {
      "text/html": [
       "<div>\n",
       "<style scoped>\n",
       "    .dataframe tbody tr th:only-of-type {\n",
       "        vertical-align: middle;\n",
       "    }\n",
       "\n",
       "    .dataframe tbody tr th {\n",
       "        vertical-align: top;\n",
       "    }\n",
       "\n",
       "    .dataframe thead th {\n",
       "        text-align: right;\n",
       "    }\n",
       "</style>\n",
       "<table border=\"1\" class=\"dataframe\">\n",
       "  <thead>\n",
       "    <tr style=\"text-align: right;\">\n",
       "      <th></th>\n",
       "      <th>metric</th>\n",
       "      <th>estimate_baseline_value</th>\n",
       "      <th>metric_name</th>\n",
       "    </tr>\n",
       "  </thead>\n",
       "  <tbody>\n",
       "    <tr>\n",
       "      <th>0</th>\n",
       "      <td>unique cookies to view course overview page per day:</td>\n",
       "      <td>40000.000000</td>\n",
       "      <td>number of cookies</td>\n",
       "    </tr>\n",
       "    <tr>\n",
       "      <th>1</th>\n",
       "      <td>unique cookies to click \"start free trial\" per day:</td>\n",
       "      <td>3200.000000</td>\n",
       "      <td>number of clicks</td>\n",
       "    </tr>\n",
       "    <tr>\n",
       "      <th>2</th>\n",
       "      <td>enrollments per day:</td>\n",
       "      <td>660.000000</td>\n",
       "      <td>number of enrollments</td>\n",
       "    </tr>\n",
       "    <tr>\n",
       "      <th>3</th>\n",
       "      <td>click-through-probability on \"start free trial\":</td>\n",
       "      <td>0.080000</td>\n",
       "      <td>CTP</td>\n",
       "    </tr>\n",
       "    <tr>\n",
       "      <th>4</th>\n",
       "      <td>probability of enrolling, given click:</td>\n",
       "      <td>0.206250</td>\n",
       "      <td>gross conversion</td>\n",
       "    </tr>\n",
       "    <tr>\n",
       "      <th>5</th>\n",
       "      <td>probability of payment, given enroll:</td>\n",
       "      <td>0.530000</td>\n",
       "      <td>retention</td>\n",
       "    </tr>\n",
       "    <tr>\n",
       "      <th>6</th>\n",
       "      <td>probability of payment, given click</td>\n",
       "      <td>0.109313</td>\n",
       "      <td>net conversion</td>\n",
       "    </tr>\n",
       "  </tbody>\n",
       "</table>\n",
       "</div>"
      ],
      "text/plain": [
       "                                                 metric  \\\n",
       "0  unique cookies to view course overview page per day:   \n",
       "1   unique cookies to click \"start free trial\" per day:   \n",
       "2                                  enrollments per day:   \n",
       "3      click-through-probability on \"start free trial\":   \n",
       "4                probability of enrolling, given click:   \n",
       "5                 probability of payment, given enroll:   \n",
       "6                   probability of payment, given click   \n",
       "\n",
       "   estimate_baseline_value            metric_name  \n",
       "0             40000.000000      number of cookies  \n",
       "1              3200.000000       number of clicks  \n",
       "2               660.000000  number of enrollments  \n",
       "3                 0.080000                    CTP  \n",
       "4                 0.206250       gross conversion  \n",
       "5                 0.530000              retention  \n",
       "6                 0.109313         net conversion  "
      ]
     },
     "execution_count": 8,
     "metadata": {},
     "output_type": "execute_result"
    }
   ],
   "source": [
    "data_df"
   ]
  },
  {
   "cell_type": "code",
   "execution_count": 9,
   "metadata": {},
   "outputs": [],
   "source": [
    "dmin = [3000, -50, 240, 0.01, 0.01, 0.01, 0.0075]\n",
    "data_df['dmin'] = dmin"
   ]
  },
  {
   "cell_type": "code",
   "execution_count": 10,
   "metadata": {
    "scrolled": true
   },
   "outputs": [
    {
     "data": {
      "text/html": [
       "<div>\n",
       "<style scoped>\n",
       "    .dataframe tbody tr th:only-of-type {\n",
       "        vertical-align: middle;\n",
       "    }\n",
       "\n",
       "    .dataframe tbody tr th {\n",
       "        vertical-align: top;\n",
       "    }\n",
       "\n",
       "    .dataframe thead th {\n",
       "        text-align: right;\n",
       "    }\n",
       "</style>\n",
       "<table border=\"1\" class=\"dataframe\">\n",
       "  <thead>\n",
       "    <tr style=\"text-align: right;\">\n",
       "      <th></th>\n",
       "      <th>metric</th>\n",
       "      <th>estimate_baseline_value</th>\n",
       "      <th>metric_name</th>\n",
       "      <th>dmin</th>\n",
       "    </tr>\n",
       "  </thead>\n",
       "  <tbody>\n",
       "    <tr>\n",
       "      <th>0</th>\n",
       "      <td>unique cookies to view course overview page per day:</td>\n",
       "      <td>40000.000000</td>\n",
       "      <td>number of cookies</td>\n",
       "      <td>3000.0000</td>\n",
       "    </tr>\n",
       "    <tr>\n",
       "      <th>1</th>\n",
       "      <td>unique cookies to click \"start free trial\" per day:</td>\n",
       "      <td>3200.000000</td>\n",
       "      <td>number of clicks</td>\n",
       "      <td>-50.0000</td>\n",
       "    </tr>\n",
       "    <tr>\n",
       "      <th>2</th>\n",
       "      <td>enrollments per day:</td>\n",
       "      <td>660.000000</td>\n",
       "      <td>number of enrollments</td>\n",
       "      <td>240.0000</td>\n",
       "    </tr>\n",
       "    <tr>\n",
       "      <th>3</th>\n",
       "      <td>click-through-probability on \"start free trial\":</td>\n",
       "      <td>0.080000</td>\n",
       "      <td>CTP</td>\n",
       "      <td>0.0100</td>\n",
       "    </tr>\n",
       "    <tr>\n",
       "      <th>4</th>\n",
       "      <td>probability of enrolling, given click:</td>\n",
       "      <td>0.206250</td>\n",
       "      <td>gross conversion</td>\n",
       "      <td>0.0100</td>\n",
       "    </tr>\n",
       "    <tr>\n",
       "      <th>5</th>\n",
       "      <td>probability of payment, given enroll:</td>\n",
       "      <td>0.530000</td>\n",
       "      <td>retention</td>\n",
       "      <td>0.0100</td>\n",
       "    </tr>\n",
       "    <tr>\n",
       "      <th>6</th>\n",
       "      <td>probability of payment, given click</td>\n",
       "      <td>0.109313</td>\n",
       "      <td>net conversion</td>\n",
       "      <td>0.0075</td>\n",
       "    </tr>\n",
       "  </tbody>\n",
       "</table>\n",
       "</div>"
      ],
      "text/plain": [
       "                                                 metric  \\\n",
       "0  unique cookies to view course overview page per day:   \n",
       "1   unique cookies to click \"start free trial\" per day:   \n",
       "2                                  enrollments per day:   \n",
       "3      click-through-probability on \"start free trial\":   \n",
       "4                probability of enrolling, given click:   \n",
       "5                 probability of payment, given enroll:   \n",
       "6                   probability of payment, given click   \n",
       "\n",
       "   estimate_baseline_value            metric_name       dmin  \n",
       "0             40000.000000      number of cookies  3000.0000  \n",
       "1              3200.000000       number of clicks   -50.0000  \n",
       "2               660.000000  number of enrollments   240.0000  \n",
       "3                 0.080000                    CTP     0.0100  \n",
       "4                 0.206250       gross conversion     0.0100  \n",
       "5                 0.530000              retention     0.0100  \n",
       "6                 0.109313         net conversion     0.0075  "
      ]
     },
     "execution_count": 10,
     "metadata": {},
     "output_type": "execute_result"
    }
   ],
   "source": [
    "data_df"
   ]
  },
  {
   "cell_type": "code",
   "execution_count": 11,
   "metadata": {},
   "outputs": [
    {
     "data": {
      "text/html": [
       "<div>\n",
       "<style scoped>\n",
       "    .dataframe tbody tr th:only-of-type {\n",
       "        vertical-align: middle;\n",
       "    }\n",
       "\n",
       "    .dataframe tbody tr th {\n",
       "        vertical-align: top;\n",
       "    }\n",
       "\n",
       "    .dataframe thead th {\n",
       "        text-align: right;\n",
       "    }\n",
       "</style>\n",
       "<table border=\"1\" class=\"dataframe\">\n",
       "  <thead>\n",
       "    <tr style=\"text-align: right;\">\n",
       "      <th></th>\n",
       "      <th>metric</th>\n",
       "      <th>estimate_baseline_value</th>\n",
       "      <th>metric_name</th>\n",
       "      <th>dmin</th>\n",
       "    </tr>\n",
       "  </thead>\n",
       "  <tbody>\n",
       "    <tr>\n",
       "      <th>C</th>\n",
       "      <td>unique cookies to view course overview page per day:</td>\n",
       "      <td>40000.000000</td>\n",
       "      <td>number of cookies</td>\n",
       "      <td>3000.0000</td>\n",
       "    </tr>\n",
       "    <tr>\n",
       "      <th>CL</th>\n",
       "      <td>unique cookies to click \"start free trial\" per day:</td>\n",
       "      <td>3200.000000</td>\n",
       "      <td>number of clicks</td>\n",
       "      <td>-50.0000</td>\n",
       "    </tr>\n",
       "    <tr>\n",
       "      <th>EN</th>\n",
       "      <td>enrollments per day:</td>\n",
       "      <td>660.000000</td>\n",
       "      <td>number of enrollments</td>\n",
       "      <td>240.0000</td>\n",
       "    </tr>\n",
       "    <tr>\n",
       "      <th>CTP</th>\n",
       "      <td>click-through-probability on \"start free trial\":</td>\n",
       "      <td>0.080000</td>\n",
       "      <td>CTP</td>\n",
       "      <td>0.0100</td>\n",
       "    </tr>\n",
       "    <tr>\n",
       "      <th>GC</th>\n",
       "      <td>probability of enrolling, given click:</td>\n",
       "      <td>0.206250</td>\n",
       "      <td>gross conversion</td>\n",
       "      <td>0.0100</td>\n",
       "    </tr>\n",
       "    <tr>\n",
       "      <th>R</th>\n",
       "      <td>probability of payment, given enroll:</td>\n",
       "      <td>0.530000</td>\n",
       "      <td>retention</td>\n",
       "      <td>0.0100</td>\n",
       "    </tr>\n",
       "    <tr>\n",
       "      <th>NC</th>\n",
       "      <td>probability of payment, given click</td>\n",
       "      <td>0.109313</td>\n",
       "      <td>net conversion</td>\n",
       "      <td>0.0075</td>\n",
       "    </tr>\n",
       "  </tbody>\n",
       "</table>\n",
       "</div>"
      ],
      "text/plain": [
       "                                                   metric  \\\n",
       "C    unique cookies to view course overview page per day:   \n",
       "CL    unique cookies to click \"start free trial\" per day:   \n",
       "EN                                   enrollments per day:   \n",
       "CTP      click-through-probability on \"start free trial\":   \n",
       "GC                 probability of enrolling, given click:   \n",
       "R                   probability of payment, given enroll:   \n",
       "NC                    probability of payment, given click   \n",
       "\n",
       "     estimate_baseline_value            metric_name       dmin  \n",
       "C               40000.000000      number of cookies  3000.0000  \n",
       "CL               3200.000000       number of clicks   -50.0000  \n",
       "EN                660.000000  number of enrollments   240.0000  \n",
       "CTP                 0.080000                    CTP     0.0100  \n",
       "GC                  0.206250       gross conversion     0.0100  \n",
       "R                   0.530000              retention     0.0100  \n",
       "NC                  0.109313         net conversion     0.0075  "
      ]
     },
     "execution_count": 11,
     "metadata": {},
     "output_type": "execute_result"
    }
   ],
   "source": [
    "new_index = ['C','CL','EN','CTP','GC','R','NC']\n",
    "data_df.index = new_index\n",
    "data_df"
   ]
  },
  {
   "cell_type": "markdown",
   "metadata": {},
   "source": [
    "### Measuring Variability\n",
    "\n",
    "Evaluation Metrics\n",
    "\n",
    "- Gross conversion\n",
    "- Retention\n",
    "- Net conversion\n",
    "\n",
    "Calculate standard deviation of sample (standard error) for the evaluation metrics. Given sample size of 5000 cookies visiting the course overview page. "
   ]
  },
  {
   "cell_type": "code",
   "execution_count": 12,
   "metadata": {
    "scrolled": true
   },
   "outputs": [
    {
     "data": {
      "text/html": [
       "<div>\n",
       "<style scoped>\n",
       "    .dataframe tbody tr th:only-of-type {\n",
       "        vertical-align: middle;\n",
       "    }\n",
       "\n",
       "    .dataframe tbody tr th {\n",
       "        vertical-align: top;\n",
       "    }\n",
       "\n",
       "    .dataframe thead th {\n",
       "        text-align: right;\n",
       "    }\n",
       "</style>\n",
       "<table border=\"1\" class=\"dataframe\">\n",
       "  <thead>\n",
       "    <tr style=\"text-align: right;\">\n",
       "      <th></th>\n",
       "      <th>metric</th>\n",
       "      <th>estimate_baseline_value</th>\n",
       "      <th>metric_name</th>\n",
       "      <th>dmin</th>\n",
       "      <th>scaled_est</th>\n",
       "    </tr>\n",
       "  </thead>\n",
       "  <tbody>\n",
       "    <tr>\n",
       "      <th>C</th>\n",
       "      <td>unique cookies to view course overview page per day:</td>\n",
       "      <td>40000.000000</td>\n",
       "      <td>number of cookies</td>\n",
       "      <td>3000.0000</td>\n",
       "      <td>5000.0</td>\n",
       "    </tr>\n",
       "    <tr>\n",
       "      <th>CL</th>\n",
       "      <td>unique cookies to click \"start free trial\" per day:</td>\n",
       "      <td>3200.000000</td>\n",
       "      <td>number of clicks</td>\n",
       "      <td>-50.0000</td>\n",
       "      <td>400.0</td>\n",
       "    </tr>\n",
       "    <tr>\n",
       "      <th>EN</th>\n",
       "      <td>enrollments per day:</td>\n",
       "      <td>660.000000</td>\n",
       "      <td>number of enrollments</td>\n",
       "      <td>240.0000</td>\n",
       "      <td>82.5</td>\n",
       "    </tr>\n",
       "    <tr>\n",
       "      <th>CTP</th>\n",
       "      <td>click-through-probability on \"start free trial\":</td>\n",
       "      <td>0.080000</td>\n",
       "      <td>CTP</td>\n",
       "      <td>0.0100</td>\n",
       "      <td>NaN</td>\n",
       "    </tr>\n",
       "    <tr>\n",
       "      <th>GC</th>\n",
       "      <td>probability of enrolling, given click:</td>\n",
       "      <td>0.206250</td>\n",
       "      <td>gross conversion</td>\n",
       "      <td>0.0100</td>\n",
       "      <td>NaN</td>\n",
       "    </tr>\n",
       "    <tr>\n",
       "      <th>R</th>\n",
       "      <td>probability of payment, given enroll:</td>\n",
       "      <td>0.530000</td>\n",
       "      <td>retention</td>\n",
       "      <td>0.0100</td>\n",
       "      <td>NaN</td>\n",
       "    </tr>\n",
       "    <tr>\n",
       "      <th>NC</th>\n",
       "      <td>probability of payment, given click</td>\n",
       "      <td>0.109313</td>\n",
       "      <td>net conversion</td>\n",
       "      <td>0.0075</td>\n",
       "      <td>NaN</td>\n",
       "    </tr>\n",
       "  </tbody>\n",
       "</table>\n",
       "</div>"
      ],
      "text/plain": [
       "                                                   metric  \\\n",
       "C    unique cookies to view course overview page per day:   \n",
       "CL    unique cookies to click \"start free trial\" per day:   \n",
       "EN                                   enrollments per day:   \n",
       "CTP      click-through-probability on \"start free trial\":   \n",
       "GC                 probability of enrolling, given click:   \n",
       "R                   probability of payment, given enroll:   \n",
       "NC                    probability of payment, given click   \n",
       "\n",
       "     estimate_baseline_value            metric_name       dmin  scaled_est  \n",
       "C               40000.000000      number of cookies  3000.0000      5000.0  \n",
       "CL               3200.000000       number of clicks   -50.0000       400.0  \n",
       "EN                660.000000  number of enrollments   240.0000        82.5  \n",
       "CTP                 0.080000                    CTP     0.0100         NaN  \n",
       "GC                  0.206250       gross conversion     0.0100         NaN  \n",
       "R                   0.530000              retention     0.0100         NaN  \n",
       "NC                  0.109313         net conversion     0.0075         NaN  "
      ]
     },
     "execution_count": 12,
     "metadata": {},
     "output_type": "execute_result"
    }
   ],
   "source": [
    "#scaling estimate baseline value based on sample size specified for variance estimation, 40000 cookies >> 5000 cookies\n",
    "scaling_factor = 5000/data_df.iloc[0,1]\n",
    "scaled_bv = []\n",
    "for i in range(3):\n",
    "    scaled_bv.append(data_df.iloc[i,1]*scaling_factor)\n",
    "scaled_bv = np.append(scaled_bv, np.repeat(np.nan, 4))\n",
    "data_df['scaled_est'] = scaled_bv\n",
    "data_df"
   ]
  },
  {
   "cell_type": "code",
   "execution_count": 13,
   "metadata": {},
   "outputs": [],
   "source": [
    "data_df['std_error'] = np.nan"
   ]
  },
  {
   "cell_type": "code",
   "execution_count": 14,
   "metadata": {},
   "outputs": [],
   "source": [
    "def standarderror(p, n):\n",
    "    return np.sqrt(p*(1-p)/n)"
   ]
  },
  {
   "cell_type": "code",
   "execution_count": 15,
   "metadata": {},
   "outputs": [
    {
     "data": {
      "text/plain": [
       "0.020230604137049392"
      ]
     },
     "execution_count": 15,
     "metadata": {},
     "output_type": "execute_result"
    }
   ],
   "source": [
    "#calc std_error for gross conversion\n",
    "gc_p = data_df['estimate_baseline_value'][4]\n",
    "gc_n = data_df['scaled_est'][1]\n",
    "gc_stderror = standarderror(gc_p, gc_n)\n",
    "gc_stderror"
   ]
  },
  {
   "cell_type": "code",
   "execution_count": 16,
   "metadata": {},
   "outputs": [
    {
     "data": {
      "text/plain": [
       "0.05494901217850908"
      ]
     },
     "execution_count": 16,
     "metadata": {},
     "output_type": "execute_result"
    }
   ],
   "source": [
    "#calc std_error for retention\n",
    "r_p = data_df['estimate_baseline_value'][5]\n",
    "r_n = data_df['scaled_est'][2]\n",
    "r_stderror = standarderror(r_p, r_n)\n",
    "r_stderror"
   ]
  },
  {
   "cell_type": "code",
   "execution_count": 17,
   "metadata": {},
   "outputs": [
    {
     "data": {
      "text/plain": [
       "0.01560154458248846"
      ]
     },
     "execution_count": 17,
     "metadata": {},
     "output_type": "execute_result"
    }
   ],
   "source": [
    "#calc std_error for net conversion\n",
    "nc_p = data_df['estimate_baseline_value'][6]\n",
    "nc_n = data_df['scaled_est'][1]\n",
    "nc_stderror = standarderror(nc_p, nc_n)\n",
    "nc_stderror"
   ]
  },
  {
   "cell_type": "code",
   "execution_count": 18,
   "metadata": {
    "scrolled": true
   },
   "outputs": [
    {
     "data": {
      "text/html": [
       "<div>\n",
       "<style scoped>\n",
       "    .dataframe tbody tr th:only-of-type {\n",
       "        vertical-align: middle;\n",
       "    }\n",
       "\n",
       "    .dataframe tbody tr th {\n",
       "        vertical-align: top;\n",
       "    }\n",
       "\n",
       "    .dataframe thead th {\n",
       "        text-align: right;\n",
       "    }\n",
       "</style>\n",
       "<table border=\"1\" class=\"dataframe\">\n",
       "  <thead>\n",
       "    <tr style=\"text-align: right;\">\n",
       "      <th></th>\n",
       "      <th>metric</th>\n",
       "      <th>estimate_baseline_value</th>\n",
       "      <th>metric_name</th>\n",
       "      <th>dmin</th>\n",
       "      <th>scaled_est</th>\n",
       "      <th>std_error</th>\n",
       "    </tr>\n",
       "  </thead>\n",
       "  <tbody>\n",
       "    <tr>\n",
       "      <th>C</th>\n",
       "      <td>unique cookies to view course overview page per day:</td>\n",
       "      <td>40000.000000</td>\n",
       "      <td>number of cookies</td>\n",
       "      <td>3000.0000</td>\n",
       "      <td>5000.0</td>\n",
       "      <td>NaN</td>\n",
       "    </tr>\n",
       "    <tr>\n",
       "      <th>CL</th>\n",
       "      <td>unique cookies to click \"start free trial\" per day:</td>\n",
       "      <td>3200.000000</td>\n",
       "      <td>number of clicks</td>\n",
       "      <td>-50.0000</td>\n",
       "      <td>400.0</td>\n",
       "      <td>NaN</td>\n",
       "    </tr>\n",
       "    <tr>\n",
       "      <th>EN</th>\n",
       "      <td>enrollments per day:</td>\n",
       "      <td>660.000000</td>\n",
       "      <td>number of enrollments</td>\n",
       "      <td>240.0000</td>\n",
       "      <td>82.5</td>\n",
       "      <td>NaN</td>\n",
       "    </tr>\n",
       "    <tr>\n",
       "      <th>CTP</th>\n",
       "      <td>click-through-probability on \"start free trial\":</td>\n",
       "      <td>0.080000</td>\n",
       "      <td>CTP</td>\n",
       "      <td>0.0100</td>\n",
       "      <td>NaN</td>\n",
       "      <td>NaN</td>\n",
       "    </tr>\n",
       "    <tr>\n",
       "      <th>GC</th>\n",
       "      <td>probability of enrolling, given click:</td>\n",
       "      <td>0.206250</td>\n",
       "      <td>gross conversion</td>\n",
       "      <td>0.0100</td>\n",
       "      <td>NaN</td>\n",
       "      <td>0.020231</td>\n",
       "    </tr>\n",
       "    <tr>\n",
       "      <th>R</th>\n",
       "      <td>probability of payment, given enroll:</td>\n",
       "      <td>0.530000</td>\n",
       "      <td>retention</td>\n",
       "      <td>0.0100</td>\n",
       "      <td>NaN</td>\n",
       "      <td>0.054949</td>\n",
       "    </tr>\n",
       "    <tr>\n",
       "      <th>NC</th>\n",
       "      <td>probability of payment, given click</td>\n",
       "      <td>0.109313</td>\n",
       "      <td>net conversion</td>\n",
       "      <td>0.0075</td>\n",
       "      <td>NaN</td>\n",
       "      <td>0.015602</td>\n",
       "    </tr>\n",
       "  </tbody>\n",
       "</table>\n",
       "</div>"
      ],
      "text/plain": [
       "                                                   metric  \\\n",
       "C    unique cookies to view course overview page per day:   \n",
       "CL    unique cookies to click \"start free trial\" per day:   \n",
       "EN                                   enrollments per day:   \n",
       "CTP      click-through-probability on \"start free trial\":   \n",
       "GC                 probability of enrolling, given click:   \n",
       "R                   probability of payment, given enroll:   \n",
       "NC                    probability of payment, given click   \n",
       "\n",
       "     estimate_baseline_value            metric_name       dmin  scaled_est  \\\n",
       "C               40000.000000      number of cookies  3000.0000      5000.0   \n",
       "CL               3200.000000       number of clicks   -50.0000       400.0   \n",
       "EN                660.000000  number of enrollments   240.0000        82.5   \n",
       "CTP                 0.080000                    CTP     0.0100         NaN   \n",
       "GC                  0.206250       gross conversion     0.0100         NaN   \n",
       "R                   0.530000              retention     0.0100         NaN   \n",
       "NC                  0.109313         net conversion     0.0075         NaN   \n",
       "\n",
       "     std_error  \n",
       "C          NaN  \n",
       "CL         NaN  \n",
       "EN         NaN  \n",
       "CTP        NaN  \n",
       "GC    0.020231  \n",
       "R     0.054949  \n",
       "NC    0.015602  "
      ]
     },
     "execution_count": 18,
     "metadata": {},
     "output_type": "execute_result"
    }
   ],
   "source": [
    "data_df.iloc[4,5] = gc_stderror\n",
    "data_df.iloc[5,5] = r_stderror\n",
    "data_df.iloc[6,5] = nc_stderror\n",
    "data_df"
   ]
  },
  {
   "cell_type": "code",
   "execution_count": 19,
   "metadata": {},
   "outputs": [
    {
     "name": "stdout",
     "output_type": "stream",
     "text": [
      "<class 'pandas.core.frame.DataFrame'>\n",
      "Index: 7 entries, C to NC\n",
      "Data columns (total 6 columns):\n",
      " #   Column                   Non-Null Count  Dtype  \n",
      "---  ------                   --------------  -----  \n",
      " 0   metric                   7 non-null      object \n",
      " 1   estimate_baseline_value  7 non-null      float64\n",
      " 2   metric_name              7 non-null      object \n",
      " 3   dmin                     7 non-null      float64\n",
      " 4   scaled_est               3 non-null      float64\n",
      " 5   std_error                3 non-null      float64\n",
      "dtypes: float64(4), object(2)\n",
      "memory usage: 712.0+ bytes\n"
     ]
    }
   ],
   "source": [
    "data_df.info()"
   ]
  },
  {
   "cell_type": "markdown",
   "metadata": {},
   "source": [
    "### Sizing\n",
    "\n",
    "1. choosing number of samples given power \n",
    "    - how many pageviews total (both groups) to collect adequately power the experiment?\n",
    "    - alpha = 0.05  beta = 0.2\n",
    "    \n",
    "2. choosing duration vs. exposure\n",
    "    - what percentage of traffic would you divert to this experiment\n",
    "    - given the percentage, how long would the experiment take to run?"
   ]
  },
  {
   "cell_type": "code",
   "execution_count": 20,
   "metadata": {},
   "outputs": [],
   "source": [
    "#determing sample size\n",
    "alpha = 0.05\n",
    "beta = 0.2\n",
    "\n",
    "def zscore(alpha):\n",
    "    return norm.ppf(alpha)\n",
    "\n",
    "def effectsize(p, dmin):\n",
    "    es = dmin/np.sqrt(p*(1-p))\n",
    "    return es\n",
    "\n",
    "def samplesize(alpha, beta, es):\n",
    "    n = 2*((zscore(1-alpha/2)+zscore(1-beta))/es)**2\n",
    "    return n\n"
   ]
  },
  {
   "cell_type": "code",
   "execution_count": 21,
   "metadata": {},
   "outputs": [],
   "source": [
    "data_df['sample_size'] = np.nan"
   ]
  },
  {
   "cell_type": "code",
   "execution_count": 22,
   "metadata": {},
   "outputs": [
    {
     "data": {
      "text/plain": [
       "642473.7298175199"
      ]
     },
     "execution_count": 22,
     "metadata": {},
     "output_type": "execute_result"
    }
   ],
   "source": [
    "#sample size >> # of pageview needed  for gross conversion\n",
    "gc_dmin = data_df.loc['GC','dmin']\n",
    "gc_n = samplesize(alpha, beta, effectsize(gc_p, gc_dmin))/(data_df.loc['CTP','estimate_baseline_value'])*2\n",
    "data_df.loc['GC','sample_size'] = gc_n\n",
    "gc_n"
   ]
  },
  {
   "cell_type": "code",
   "execution_count": 23,
   "metadata": {},
   "outputs": [
    {
     "data": {
      "text/plain": [
       "25698.9491927008"
      ]
     },
     "execution_count": 23,
     "metadata": {},
     "output_type": "execute_result"
    }
   ],
   "source": [
    "samplesize(alpha, beta, effectsize(gc_p, gc_dmin))"
   ]
  },
  {
   "cell_type": "code",
   "execution_count": 25,
   "metadata": {},
   "outputs": [],
   "source": [
    "#sample size to # of pageview needed for retention\n",
    "r_dmin = data_df.loc['R','dmin']\n",
    "r_n = samplesize(alpha, beta, effectsize(r_p, r_dmin))/(data_df.loc['CTP','estimate_baseline_value'])/(data_df.loc['GC','estimate_baseline_value'])*2\n",
    "data_df.loc['R','sample_size'] = r_n"
   ]
  },
  {
   "cell_type": "code",
   "execution_count": 26,
   "metadata": {},
   "outputs": [
    {
     "data": {
      "text/plain": [
       "39103.11883652715"
      ]
     },
     "execution_count": 26,
     "metadata": {},
     "output_type": "execute_result"
    }
   ],
   "source": [
    "samplesize(alpha, beta, effectsize(r_p, r_dmin))"
   ]
  },
  {
   "cell_type": "code",
   "execution_count": 27,
   "metadata": {},
   "outputs": [
    {
     "data": {
      "text/plain": [
       "4739771.980185109"
      ]
     },
     "execution_count": 27,
     "metadata": {},
     "output_type": "execute_result"
    }
   ],
   "source": [
    "r_n"
   ]
  },
  {
   "cell_type": "code",
   "execution_count": 29,
   "metadata": {},
   "outputs": [],
   "source": [
    "#sample size to # of pageview needed for net conversion\n",
    "nc_dmin = data_df.loc['NC','dmin']\n",
    "nc_n = samplesize(alpha, beta, effectsize(nc_p, nc_dmin))/(data_df.loc['CTP','estimate_baseline_value'])*2\n",
    "data_df.loc['NC','sample_size'] = nc_n"
   ]
  },
  {
   "cell_type": "code",
   "execution_count": 30,
   "metadata": {},
   "outputs": [
    {
     "data": {
      "text/plain": [
       "27171.294379134903"
      ]
     },
     "execution_count": 30,
     "metadata": {},
     "output_type": "execute_result"
    }
   ],
   "source": [
    "samplesize(alpha, beta, effectsize(nc_p, nc_dmin))"
   ]
  },
  {
   "cell_type": "code",
   "execution_count": 31,
   "metadata": {},
   "outputs": [
    {
     "data": {
      "text/plain": [
       "679282.3594783725"
      ]
     },
     "execution_count": 31,
     "metadata": {},
     "output_type": "execute_result"
    }
   ],
   "source": [
    "nc_n"
   ]
  },
  {
   "cell_type": "code",
   "execution_count": 32,
   "metadata": {},
   "outputs": [
    {
     "data": {
      "text/html": [
       "<div>\n",
       "<style scoped>\n",
       "    .dataframe tbody tr th:only-of-type {\n",
       "        vertical-align: middle;\n",
       "    }\n",
       "\n",
       "    .dataframe tbody tr th {\n",
       "        vertical-align: top;\n",
       "    }\n",
       "\n",
       "    .dataframe thead th {\n",
       "        text-align: right;\n",
       "    }\n",
       "</style>\n",
       "<table border=\"1\" class=\"dataframe\">\n",
       "  <thead>\n",
       "    <tr style=\"text-align: right;\">\n",
       "      <th></th>\n",
       "      <th>metric</th>\n",
       "      <th>estimate_baseline_value</th>\n",
       "      <th>metric_name</th>\n",
       "      <th>dmin</th>\n",
       "      <th>scaled_est</th>\n",
       "      <th>std_error</th>\n",
       "      <th>sample_size</th>\n",
       "    </tr>\n",
       "  </thead>\n",
       "  <tbody>\n",
       "    <tr>\n",
       "      <th>C</th>\n",
       "      <td>unique cookies to view course overview page per day:</td>\n",
       "      <td>40000.000000</td>\n",
       "      <td>number of cookies</td>\n",
       "      <td>3000.0000</td>\n",
       "      <td>5000.0</td>\n",
       "      <td>NaN</td>\n",
       "      <td>NaN</td>\n",
       "    </tr>\n",
       "    <tr>\n",
       "      <th>CL</th>\n",
       "      <td>unique cookies to click \"start free trial\" per day:</td>\n",
       "      <td>3200.000000</td>\n",
       "      <td>number of clicks</td>\n",
       "      <td>-50.0000</td>\n",
       "      <td>400.0</td>\n",
       "      <td>NaN</td>\n",
       "      <td>NaN</td>\n",
       "    </tr>\n",
       "    <tr>\n",
       "      <th>EN</th>\n",
       "      <td>enrollments per day:</td>\n",
       "      <td>660.000000</td>\n",
       "      <td>number of enrollments</td>\n",
       "      <td>240.0000</td>\n",
       "      <td>82.5</td>\n",
       "      <td>NaN</td>\n",
       "      <td>NaN</td>\n",
       "    </tr>\n",
       "    <tr>\n",
       "      <th>CTP</th>\n",
       "      <td>click-through-probability on \"start free trial\":</td>\n",
       "      <td>0.080000</td>\n",
       "      <td>CTP</td>\n",
       "      <td>0.0100</td>\n",
       "      <td>NaN</td>\n",
       "      <td>NaN</td>\n",
       "      <td>NaN</td>\n",
       "    </tr>\n",
       "    <tr>\n",
       "      <th>GC</th>\n",
       "      <td>probability of enrolling, given click:</td>\n",
       "      <td>0.206250</td>\n",
       "      <td>gross conversion</td>\n",
       "      <td>0.0100</td>\n",
       "      <td>NaN</td>\n",
       "      <td>0.020231</td>\n",
       "      <td>6.424737e+05</td>\n",
       "    </tr>\n",
       "    <tr>\n",
       "      <th>R</th>\n",
       "      <td>probability of payment, given enroll:</td>\n",
       "      <td>0.530000</td>\n",
       "      <td>retention</td>\n",
       "      <td>0.0100</td>\n",
       "      <td>NaN</td>\n",
       "      <td>0.054949</td>\n",
       "      <td>4.739772e+06</td>\n",
       "    </tr>\n",
       "    <tr>\n",
       "      <th>NC</th>\n",
       "      <td>probability of payment, given click</td>\n",
       "      <td>0.109313</td>\n",
       "      <td>net conversion</td>\n",
       "      <td>0.0075</td>\n",
       "      <td>NaN</td>\n",
       "      <td>0.015602</td>\n",
       "      <td>6.792824e+05</td>\n",
       "    </tr>\n",
       "  </tbody>\n",
       "</table>\n",
       "</div>"
      ],
      "text/plain": [
       "                                                   metric  \\\n",
       "C    unique cookies to view course overview page per day:   \n",
       "CL    unique cookies to click \"start free trial\" per day:   \n",
       "EN                                   enrollments per day:   \n",
       "CTP      click-through-probability on \"start free trial\":   \n",
       "GC                 probability of enrolling, given click:   \n",
       "R                   probability of payment, given enroll:   \n",
       "NC                    probability of payment, given click   \n",
       "\n",
       "     estimate_baseline_value            metric_name       dmin  scaled_est  \\\n",
       "C               40000.000000      number of cookies  3000.0000      5000.0   \n",
       "CL               3200.000000       number of clicks   -50.0000       400.0   \n",
       "EN                660.000000  number of enrollments   240.0000        82.5   \n",
       "CTP                 0.080000                    CTP     0.0100         NaN   \n",
       "GC                  0.206250       gross conversion     0.0100         NaN   \n",
       "R                   0.530000              retention     0.0100         NaN   \n",
       "NC                  0.109313         net conversion     0.0075         NaN   \n",
       "\n",
       "     std_error   sample_size  \n",
       "C          NaN           NaN  \n",
       "CL         NaN           NaN  \n",
       "EN         NaN           NaN  \n",
       "CTP        NaN           NaN  \n",
       "GC    0.020231  6.424737e+05  \n",
       "R     0.054949  4.739772e+06  \n",
       "NC    0.015602  6.792824e+05  "
      ]
     },
     "execution_count": 32,
     "metadata": {},
     "output_type": "execute_result"
    }
   ],
   "source": [
    "data_df"
   ]
  },
  {
   "cell_type": "code",
   "execution_count": null,
   "metadata": {},
   "outputs": [],
   "source": []
  },
  {
   "cell_type": "code",
   "execution_count": 40,
   "metadata": {},
   "outputs": [],
   "source": [
    "#exposure & duration\n",
    "#try diverting 50% of total traffic\n",
    "\n",
    "traffic = 0.7\n"
   ]
  },
  {
   "cell_type": "code",
   "execution_count": 41,
   "metadata": {},
   "outputs": [
    {
     "name": "stdout",
     "output_type": "stream",
     "text": [
      "Days needed for teting metric Gross Conversion: 23\n"
     ]
    }
   ],
   "source": [
    "#days needed for testing metric GC only\n",
    "gc_duration = data_df.loc['GC','sample_size']/(data_df.loc['C','estimate_baseline_value']*traffic)\n",
    "\n",
    "print('Days needed for teting metric Gross Conversion:', math.ceil(gc_duration))"
   ]
  },
  {
   "cell_type": "code",
   "execution_count": 42,
   "metadata": {},
   "outputs": [
    {
     "name": "stdout",
     "output_type": "stream",
     "text": [
      "Days needed for teting metric Net Conversion: 25\n"
     ]
    }
   ],
   "source": [
    "#days needed for testing metric NC \n",
    "nc_duration = data_df.loc['NC','sample_size']/(data_df.loc['C','estimate_baseline_value']*traffic)\n",
    "\n",
    "print('Days needed for teting metric Net Conversion:', math.ceil(nc_duration))"
   ]
  },
  {
   "cell_type": "code",
   "execution_count": 36,
   "metadata": {},
   "outputs": [
    {
     "name": "stdout",
     "output_type": "stream",
     "text": [
      "Days needed for teting metric Retention: 170\n"
     ]
    }
   ],
   "source": [
    "r_duration = data_df.loc['R','sample_size']/(data_df.loc['C','estimate_baseline_value']*traffic)\n",
    "\n",
    "print('Days needed for teting metric Retention:', math.ceil(r_duration))"
   ]
  },
  {
   "cell_type": "markdown",
   "metadata": {},
   "source": [
    "### Analysis w/ Collected Data"
   ]
  },
  {
   "cell_type": "code",
   "execution_count": 44,
   "metadata": {},
   "outputs": [
    {
     "data": {
      "text/html": [
       "<div>\n",
       "<style scoped>\n",
       "    .dataframe tbody tr th:only-of-type {\n",
       "        vertical-align: middle;\n",
       "    }\n",
       "\n",
       "    .dataframe tbody tr th {\n",
       "        vertical-align: top;\n",
       "    }\n",
       "\n",
       "    .dataframe thead th {\n",
       "        text-align: right;\n",
       "    }\n",
       "</style>\n",
       "<table border=\"1\" class=\"dataframe\">\n",
       "  <thead>\n",
       "    <tr style=\"text-align: right;\">\n",
       "      <th></th>\n",
       "      <th>Date</th>\n",
       "      <th>Pageviews</th>\n",
       "      <th>Clicks</th>\n",
       "      <th>Enrollments</th>\n",
       "      <th>Payments</th>\n",
       "    </tr>\n",
       "  </thead>\n",
       "  <tbody>\n",
       "    <tr>\n",
       "      <th>0</th>\n",
       "      <td>Sat, Oct 11</td>\n",
       "      <td>7716</td>\n",
       "      <td>686</td>\n",
       "      <td>105.0</td>\n",
       "      <td>34.0</td>\n",
       "    </tr>\n",
       "    <tr>\n",
       "      <th>1</th>\n",
       "      <td>Sun, Oct 12</td>\n",
       "      <td>9288</td>\n",
       "      <td>785</td>\n",
       "      <td>116.0</td>\n",
       "      <td>91.0</td>\n",
       "    </tr>\n",
       "    <tr>\n",
       "      <th>2</th>\n",
       "      <td>Mon, Oct 13</td>\n",
       "      <td>10480</td>\n",
       "      <td>884</td>\n",
       "      <td>145.0</td>\n",
       "      <td>79.0</td>\n",
       "    </tr>\n",
       "    <tr>\n",
       "      <th>3</th>\n",
       "      <td>Tue, Oct 14</td>\n",
       "      <td>9867</td>\n",
       "      <td>827</td>\n",
       "      <td>138.0</td>\n",
       "      <td>92.0</td>\n",
       "    </tr>\n",
       "    <tr>\n",
       "      <th>4</th>\n",
       "      <td>Wed, Oct 15</td>\n",
       "      <td>9793</td>\n",
       "      <td>832</td>\n",
       "      <td>140.0</td>\n",
       "      <td>94.0</td>\n",
       "    </tr>\n",
       "  </tbody>\n",
       "</table>\n",
       "</div>"
      ],
      "text/plain": [
       "          Date  Pageviews  Clicks  Enrollments  Payments\n",
       "0  Sat, Oct 11       7716     686        105.0      34.0\n",
       "1  Sun, Oct 12       9288     785        116.0      91.0\n",
       "2  Mon, Oct 13      10480     884        145.0      79.0\n",
       "3  Tue, Oct 14       9867     827        138.0      92.0\n",
       "4  Wed, Oct 15       9793     832        140.0      94.0"
      ]
     },
     "execution_count": 44,
     "metadata": {},
     "output_type": "execute_result"
    }
   ],
   "source": [
    "#sanity check - invariant metrics are equivalent between two groups\n",
    "#invariant metrics -'# of cookies' & '# of clicks' & 'ctp'\n",
    "#load collected data\n",
    "\n",
    "control_df = pd.read_csv('data_control.csv')\n",
    "experiment_df = pd.read_csv('data_experiment.csv')\n",
    "#control_df.head()\n",
    "experiment_df.head()"
   ]
  },
  {
   "cell_type": "code",
   "execution_count": 45,
   "metadata": {},
   "outputs": [
    {
     "data": {
      "text/html": [
       "<div>\n",
       "<style scoped>\n",
       "    .dataframe tbody tr th:only-of-type {\n",
       "        vertical-align: middle;\n",
       "    }\n",
       "\n",
       "    .dataframe tbody tr th {\n",
       "        vertical-align: top;\n",
       "    }\n",
       "\n",
       "    .dataframe thead th {\n",
       "        text-align: right;\n",
       "    }\n",
       "</style>\n",
       "<table border=\"1\" class=\"dataframe\">\n",
       "  <thead>\n",
       "    <tr style=\"text-align: right;\">\n",
       "      <th></th>\n",
       "      <th>Pageviews</th>\n",
       "      <th>Clicks</th>\n",
       "      <th>Enrollments</th>\n",
       "      <th>Payments</th>\n",
       "    </tr>\n",
       "  </thead>\n",
       "  <tbody>\n",
       "    <tr>\n",
       "      <th>count</th>\n",
       "      <td>37.000000</td>\n",
       "      <td>37.000000</td>\n",
       "      <td>23.000000</td>\n",
       "      <td>23.000000</td>\n",
       "    </tr>\n",
       "    <tr>\n",
       "      <th>mean</th>\n",
       "      <td>9339.000000</td>\n",
       "      <td>766.972973</td>\n",
       "      <td>164.565217</td>\n",
       "      <td>88.391304</td>\n",
       "    </tr>\n",
       "    <tr>\n",
       "      <th>std</th>\n",
       "      <td>740.239563</td>\n",
       "      <td>68.286767</td>\n",
       "      <td>29.977000</td>\n",
       "      <td>20.650202</td>\n",
       "    </tr>\n",
       "    <tr>\n",
       "      <th>min</th>\n",
       "      <td>7434.000000</td>\n",
       "      <td>632.000000</td>\n",
       "      <td>110.000000</td>\n",
       "      <td>56.000000</td>\n",
       "    </tr>\n",
       "    <tr>\n",
       "      <th>25%</th>\n",
       "      <td>8896.000000</td>\n",
       "      <td>708.000000</td>\n",
       "      <td>146.500000</td>\n",
       "      <td>70.000000</td>\n",
       "    </tr>\n",
       "    <tr>\n",
       "      <th>50%</th>\n",
       "      <td>9420.000000</td>\n",
       "      <td>759.000000</td>\n",
       "      <td>162.000000</td>\n",
       "      <td>91.000000</td>\n",
       "    </tr>\n",
       "    <tr>\n",
       "      <th>75%</th>\n",
       "      <td>9871.000000</td>\n",
       "      <td>825.000000</td>\n",
       "      <td>175.000000</td>\n",
       "      <td>102.500000</td>\n",
       "    </tr>\n",
       "    <tr>\n",
       "      <th>max</th>\n",
       "      <td>10667.000000</td>\n",
       "      <td>909.000000</td>\n",
       "      <td>233.000000</td>\n",
       "      <td>128.000000</td>\n",
       "    </tr>\n",
       "  </tbody>\n",
       "</table>\n",
       "</div>"
      ],
      "text/plain": [
       "          Pageviews      Clicks  Enrollments    Payments\n",
       "count     37.000000   37.000000    23.000000   23.000000\n",
       "mean    9339.000000  766.972973   164.565217   88.391304\n",
       "std      740.239563   68.286767    29.977000   20.650202\n",
       "min     7434.000000  632.000000   110.000000   56.000000\n",
       "25%     8896.000000  708.000000   146.500000   70.000000\n",
       "50%     9420.000000  759.000000   162.000000   91.000000\n",
       "75%     9871.000000  825.000000   175.000000  102.500000\n",
       "max    10667.000000  909.000000   233.000000  128.000000"
      ]
     },
     "execution_count": 45,
     "metadata": {},
     "output_type": "execute_result"
    }
   ],
   "source": [
    "control_df.describe()"
   ]
  },
  {
   "cell_type": "code",
   "execution_count": 46,
   "metadata": {},
   "outputs": [
    {
     "data": {
      "text/html": [
       "<div>\n",
       "<style scoped>\n",
       "    .dataframe tbody tr th:only-of-type {\n",
       "        vertical-align: middle;\n",
       "    }\n",
       "\n",
       "    .dataframe tbody tr th {\n",
       "        vertical-align: top;\n",
       "    }\n",
       "\n",
       "    .dataframe thead th {\n",
       "        text-align: right;\n",
       "    }\n",
       "</style>\n",
       "<table border=\"1\" class=\"dataframe\">\n",
       "  <thead>\n",
       "    <tr style=\"text-align: right;\">\n",
       "      <th></th>\n",
       "      <th>Pageviews</th>\n",
       "      <th>Clicks</th>\n",
       "      <th>Enrollments</th>\n",
       "      <th>Payments</th>\n",
       "    </tr>\n",
       "  </thead>\n",
       "  <tbody>\n",
       "    <tr>\n",
       "      <th>count</th>\n",
       "      <td>37.000000</td>\n",
       "      <td>37.000000</td>\n",
       "      <td>23.000000</td>\n",
       "      <td>23.000000</td>\n",
       "    </tr>\n",
       "    <tr>\n",
       "      <th>mean</th>\n",
       "      <td>9315.135135</td>\n",
       "      <td>765.540541</td>\n",
       "      <td>148.826087</td>\n",
       "      <td>84.565217</td>\n",
       "    </tr>\n",
       "    <tr>\n",
       "      <th>std</th>\n",
       "      <td>708.070781</td>\n",
       "      <td>64.578374</td>\n",
       "      <td>33.234227</td>\n",
       "      <td>23.060841</td>\n",
       "    </tr>\n",
       "    <tr>\n",
       "      <th>min</th>\n",
       "      <td>7664.000000</td>\n",
       "      <td>642.000000</td>\n",
       "      <td>94.000000</td>\n",
       "      <td>34.000000</td>\n",
       "    </tr>\n",
       "    <tr>\n",
       "      <th>25%</th>\n",
       "      <td>8881.000000</td>\n",
       "      <td>722.000000</td>\n",
       "      <td>127.000000</td>\n",
       "      <td>69.000000</td>\n",
       "    </tr>\n",
       "    <tr>\n",
       "      <th>50%</th>\n",
       "      <td>9359.000000</td>\n",
       "      <td>770.000000</td>\n",
       "      <td>142.000000</td>\n",
       "      <td>91.000000</td>\n",
       "    </tr>\n",
       "    <tr>\n",
       "      <th>75%</th>\n",
       "      <td>9737.000000</td>\n",
       "      <td>827.000000</td>\n",
       "      <td>172.000000</td>\n",
       "      <td>99.000000</td>\n",
       "    </tr>\n",
       "    <tr>\n",
       "      <th>max</th>\n",
       "      <td>10551.000000</td>\n",
       "      <td>884.000000</td>\n",
       "      <td>213.000000</td>\n",
       "      <td>123.000000</td>\n",
       "    </tr>\n",
       "  </tbody>\n",
       "</table>\n",
       "</div>"
      ],
      "text/plain": [
       "          Pageviews      Clicks  Enrollments    Payments\n",
       "count     37.000000   37.000000    23.000000   23.000000\n",
       "mean    9315.135135  765.540541   148.826087   84.565217\n",
       "std      708.070781   64.578374    33.234227   23.060841\n",
       "min     7664.000000  642.000000    94.000000   34.000000\n",
       "25%     8881.000000  722.000000   127.000000   69.000000\n",
       "50%     9359.000000  770.000000   142.000000   91.000000\n",
       "75%     9737.000000  827.000000   172.000000   99.000000\n",
       "max    10551.000000  884.000000   213.000000  123.000000"
      ]
     },
     "execution_count": 46,
     "metadata": {},
     "output_type": "execute_result"
    }
   ],
   "source": [
    "experiment_df.describe()"
   ]
  },
  {
   "cell_type": "markdown",
   "metadata": {},
   "source": [
    "##### sanity check for pageviews/cookies\n"
   ]
  },
  {
   "cell_type": "code",
   "execution_count": 47,
   "metadata": {},
   "outputs": [
    {
     "name": "stdout",
     "output_type": "stream",
     "text": [
      "control pageview: 345543\n",
      "control pageview: 344660\n"
     ]
    }
   ],
   "source": [
    "pg_control = control_df['Pageviews'].sum()\n",
    "pg_exp = experiment_df['Pageviews'].sum()\n",
    "pg_total = pg_control + pg_exp\n",
    "\n",
    "print('control pageview:', pg_control)\n",
    "print('control pageview:', pg_exp)"
   ]
  },
  {
   "cell_type": "code",
   "execution_count": 48,
   "metadata": {},
   "outputs": [
    {
     "name": "stdout",
     "output_type": "stream",
     "text": [
      "pageviews confidence interval is between 0.4988 and 0.5012\n"
     ]
    }
   ],
   "source": [
    "p = 0.5\n",
    "alpha = 0.05\n",
    "\n",
    "p_hat_pg = round(pg_control/pg_total,4)\n",
    "sde_pg = standarderror(p, pg_total)\n",
    "margin_of_error_pg = round(norm.ppf(1-alpha/2)*(sde_pg),4)\n",
    "pg_left = p - margin_of_error_pg\n",
    "pg_right = p + margin_of_error_pg\n",
    "\n",
    "print('pageviews confidence interval is between {} and {}'.format(pg_left, pg_right))"
   ]
  },
  {
   "cell_type": "code",
   "execution_count": 49,
   "metadata": {},
   "outputs": [],
   "source": [
    "def check_ci(p_hat, left, right):\n",
    "    if left <= p_hat <= right:\n",
    "        return round(p_hat,4), 'sanity check passed'\n",
    "    else:\n",
    "        return 'sanity check not passed'"
   ]
  },
  {
   "cell_type": "code",
   "execution_count": 50,
   "metadata": {},
   "outputs": [
    {
     "name": "stdout",
     "output_type": "stream",
     "text": [
      "(0.5006, 'sanity check passed')\n"
     ]
    }
   ],
   "source": [
    "print(check_ci(p_hat_pg, pg_left, pg_right))"
   ]
  },
  {
   "cell_type": "code",
   "execution_count": 51,
   "metadata": {},
   "outputs": [
    {
     "name": "stdout",
     "output_type": "stream",
     "text": [
      "p-value: 0.2878 , pageviews - sanity check is passed\n"
     ]
    }
   ],
   "source": [
    "#using another method, calcuating test statistic and compare corresponding p-value against alpha\n",
    "#if p-value is greater than alpha >> no difference between the number of pageviews assigend to the two groups\n",
    "z_statistic_pg, p_value_pg = proportions_ztest(pg_control, pg_total, value=0.5)\n",
    "if p_value_pg > alpha:\n",
    "    print('p-value:', round(p_value_pg,4),',' ' pageviews - sanity check is passed')\n",
    "else:\n",
    "    print('sanity check is not passed, number of pageviews is different between two groups')"
   ]
  },
  {
   "cell_type": "markdown",
   "metadata": {},
   "source": [
    "##### sanity check for clicks"
   ]
  },
  {
   "cell_type": "code",
   "execution_count": 52,
   "metadata": {},
   "outputs": [
    {
     "name": "stdout",
     "output_type": "stream",
     "text": [
      "control clicks: 28378\n",
      "control clicks: 28325\n"
     ]
    }
   ],
   "source": [
    "cl_control = control_df['Clicks'].sum()\n",
    "cl_exp = experiment_df['Clicks'].sum()\n",
    "cl_total = cl_control + cl_exp\n",
    "\n",
    "print('control clicks:', cl_control)\n",
    "print('control clicks:', cl_exp)"
   ]
  },
  {
   "cell_type": "code",
   "execution_count": 53,
   "metadata": {},
   "outputs": [
    {
     "name": "stdout",
     "output_type": "stream",
     "text": [
      "pageviews confidence interval is between 0.4959 and 0.5041\n"
     ]
    }
   ],
   "source": [
    "p_hat_cl = round(cl_control/cl_total,4)\n",
    "sde_cl = standarderror(p, cl_total)\n",
    "margin_of_error_cl = round(norm.ppf(1-alpha/2)*(sde_cl),4)\n",
    "cl_left = p - margin_of_error_cl\n",
    "cl_right = p + margin_of_error_cl\n",
    "\n",
    "print('pageviews confidence interval is between {} and {}'.format(cl_left, cl_right))"
   ]
  },
  {
   "cell_type": "code",
   "execution_count": 54,
   "metadata": {},
   "outputs": [
    {
     "name": "stdout",
     "output_type": "stream",
     "text": [
      "(0.5005, 'sanity check passed')\n"
     ]
    }
   ],
   "source": [
    "print(check_ci(p_hat_cl, cl_left, cl_right))"
   ]
  },
  {
   "cell_type": "code",
   "execution_count": 55,
   "metadata": {},
   "outputs": [],
   "source": [
    "z_statistic_cl, p_value_cl = proportions_ztest(cl_control, cl_total, value=0.5)\n"
   ]
  },
  {
   "cell_type": "markdown",
   "metadata": {},
   "source": [
    "##### sanity check for click through probability"
   ]
  },
  {
   "cell_type": "code",
   "execution_count": 56,
   "metadata": {},
   "outputs": [
    {
     "name": "stdout",
     "output_type": "stream",
     "text": [
      "Click-through-probability confidence interval is between -0.0013 and 0.0013\n"
     ]
    }
   ],
   "source": [
    "#calculate ctp for both groups\n",
    "ctp_control = control_df['Clicks'].sum()/control_df['Pageviews'].sum()\n",
    "ctp_exp = experiment_df['Clicks'].sum()/experiment_df['Pageviews'].sum()\n",
    "\n",
    "#calclulate observed difference between two groups\n",
    "d_hat = ctp_control-ctp_exp\n",
    "\n",
    "#calculate std. error for both groups\n",
    "sde_control = np.sqrt(ctp_control*(1-ctp_control))\n",
    "sde_exp = np.sqrt(ctp_exp*(1-ctp_exp))\n",
    "\n",
    "#calculate se_pooled\n",
    "se_pooled = np.sqrt(sde_control**2/pg_control + sde_exp**2/pg_exp)\n",
    "\n",
    "#calculate margin of error\n",
    "me_ctp = round(zscore(1-alpha/2)*(se_pooled),4)\n",
    "\n",
    "#calculate left & right CI\n",
    "ctp_left = 0-me_ctp\n",
    "ctp_right = 0+me_ctp\n",
    "\n",
    "print('Click-through-probability confidence interval is between {} and {}'.format(ctp_left, ctp_right))\n",
    "\n"
   ]
  },
  {
   "cell_type": "code",
   "execution_count": 57,
   "metadata": {},
   "outputs": [
    {
     "name": "stdout",
     "output_type": "stream",
     "text": [
      "(-0.0001, 'sanity check passed')\n"
     ]
    }
   ],
   "source": [
    "print(check_ci(d_hat, ctp_left, ctp_right))"
   ]
  },
  {
   "cell_type": "code",
   "execution_count": 58,
   "metadata": {},
   "outputs": [
    {
     "name": "stdout",
     "output_type": "stream",
     "text": [
      "p-value: 0.9317 , CTP - sanity check is passed\n"
     ]
    }
   ],
   "source": [
    "#alternative approach using normal stata's proportion z-test function\n",
    "#comparing p-value to alpha \n",
    "n_total = np.array([pg_control, pg_exp])\n",
    "n_clicks = np.array([cl_control, cl_exp])\n",
    "\n",
    "z_statistic_ctp, p_value_ctp = proportions_ztest(n_clicks, n_total, value=0)\n",
    "\n",
    "#if p-value is greater than alpha, null hypothesis fails to reject, meaning experiment & control groups have the same CTP \n",
    "if p_value_ctp > alpha:\n",
    "    print('p-value:', round(p_value_ctp,4),',' ' CTP - sanity check is passed')\n",
    "else:\n",
    "    print('sanity check is not passed, CTP is different between two groups')\n",
    "    \n",
    "\n",
    "    \n",
    "# d_hat = ctp_control-ctp_exp\n",
    "# p_pooled = cl_total/pg_total\n",
    "# z_statistic_ctp = (d_hat-0)/np.sqrt(p_pooled*(1-p_pooled)*(1/pg_control+1/pg_exp))\n",
    "# p_value_ctp = norm.cdf(z_statistic_ctp)*2\n",
    "# p_value_ctp"
   ]
  },
  {
   "cell_type": "markdown",
   "metadata": {},
   "source": [
    "### Result Analysis"
   ]
  },
  {
   "cell_type": "code",
   "execution_count": 59,
   "metadata": {},
   "outputs": [
    {
     "data": {
      "text/plain": [
       "Date            0\n",
       "Pageviews       0\n",
       "Clicks          0\n",
       "Enrollments    14\n",
       "Payments       14\n",
       "dtype: int64"
      ]
     },
     "execution_count": 59,
     "metadata": {},
     "output_type": "execute_result"
    }
   ],
   "source": [
    "#check if there's null values\n",
    "control_df.isnull().sum()"
   ]
  },
  {
   "cell_type": "code",
   "execution_count": 60,
   "metadata": {},
   "outputs": [
    {
     "data": {
      "text/plain": [
       "Date            0\n",
       "Pageviews       0\n",
       "Clicks          0\n",
       "Enrollments    14\n",
       "Payments       14\n",
       "dtype: int64"
      ]
     },
     "execution_count": 60,
     "metadata": {},
     "output_type": "execute_result"
    }
   ],
   "source": [
    "experiment_df.isnull().sum()"
   ]
  },
  {
   "cell_type": "code",
   "execution_count": 61,
   "metadata": {},
   "outputs": [],
   "source": [
    "#calculate number of clicks where data is not null\n",
    "cl_cont_r = control_df['Clicks'].loc[control_df['Enrollments'].notnull()].sum() \n",
    "cl_exp_r = experiment_df['Clicks'].loc[experiment_df['Enrollments'].notnull()].sum()\n",
    "\n",
    "#calculate number of pageviews where data is not null\n",
    "pg_cont_r = control_df['Pageviews'].loc[control_df['Enrollments'].notnull()].sum()\n",
    "pg_exp_r = experiment_df['Pageviews'].loc[experiment_df['Enrollments'].notnull()].sum()\n",
    "\n",
    "#find number of enrollment for each group\n",
    "enrol_cont_r = control_df['Enrollments'].sum()\n",
    "enrol_exp_r = experiment_df['Enrollments'].sum()"
   ]
  },
  {
   "cell_type": "markdown",
   "metadata": {},
   "source": [
    "##### gross conversion analysis"
   ]
  },
  {
   "cell_type": "code",
   "execution_count": 65,
   "metadata": {},
   "outputs": [
    {
     "name": "stdout",
     "output_type": "stream",
     "text": [
      "the confidence interval for gross conversion: [-0.0291, -0.012]\n"
     ]
    }
   ],
   "source": [
    "#calculate gross conversion (GC) for both groups \n",
    "gc_cont_result = enrol_cont_r/cl_cont_r #p1\n",
    "gc_exp_result = enrol_exp_r/cl_exp_r #p2\n",
    "\n",
    "gc_diff_r = gc_exp_result - gc_cont_result\n",
    "#gc_diff \n",
    "#gc is negative indicating experiment group has lower conversion than that of the control group, which is expected \n",
    "#since the pop-up screen (how many hrs devote to study) should filter out people who do not have enough time to study\n",
    "\n",
    "#calculate standard error pooled\n",
    "gc_se_r = np.sqrt(gc_exp_result*(1-gc_exp_result)/cl_exp_r + gc_cont_result*(1-gc_cont_result)/cl_cont_r)\n",
    "\n",
    "#calculate left and right of the CI\n",
    "alpha = 0.05\n",
    "gc_r_left = gc_diff_r - zscore(1-alpha/2)*gc_se_r\n",
    "gc_r_right = gc_diff_r + zscore(1-alpha/2)*gc_se_r\n",
    "print('the confidence interval for gross conversion: [{}, {}]'.format(round(gc_r_left,4), round(gc_r_right,4)))"
   ]
  },
  {
   "cell_type": "code",
   "execution_count": 66,
   "metadata": {},
   "outputs": [
    {
     "name": "stdout",
     "output_type": "stream",
     "text": [
      "z-statistic: 4.7018, p-value: 2.578401033720593e-06\n"
     ]
    }
   ],
   "source": [
    "#another approcach using p-value\n",
    "#H0: GCcontrol = GCexp\n",
    "#Ha: GCcontrol != GCexp\n",
    "\n",
    "gc_parameter_count = np.array([enrol_cont_r, enrol_exp_r])\n",
    "gc_parameter_nobs = np.array([cl_cont_r, cl_exp_r])\n",
    "\n",
    "gc_zscore_r, gc_pvalue_r = proportions_ztest(gc_parameter_count, gc_parameter_nobs, 0)\n",
    "print('z-statistic: {}, p-value: {}'.format(round(gc_zscore_r,4), gc_pvalue_r))"
   ]
  },
  {
   "cell_type": "code",
   "execution_count": 67,
   "metadata": {},
   "outputs": [
    {
     "data": {
      "text/plain": [
       "-0.020554874580361565"
      ]
     },
     "execution_count": 67,
     "metadata": {},
     "output_type": "execute_result"
    }
   ],
   "source": [
    "gc_diff_r"
   ]
  },
  {
   "cell_type": "code",
   "execution_count": 68,
   "metadata": {},
   "outputs": [],
   "source": [
    "#calcuating p-value using self defined funciton\n",
    "def two_proportions_test(succ_1, n_1, succ_2, n_2):\n",
    "    '''\n",
    "    given success and sample size of group A and B\n",
    "    calculate z-score and p-value\n",
    "    '''\n",
    "    \n",
    "    p1 = succ_1/n_1\n",
    "    p2 = succ_2/n_2   \n",
    "    p_pooled = (succ_1+succ_2)/(n_1+n_2)\n",
    "    \n",
    "    zscore = abs(p2-p1)/np.sqrt(p_pooled*(1-p_pooled)*(1/n_1+1/n_2))\n",
    "    \n",
    "    pvalue_oneside = 1-norm.cdf(zscore)\n",
    "    pvalue_twosides = pvalue_oneside*2\n",
    "    \n",
    "    return zscore, pvalue_twosides\n"
   ]
  },
  {
   "cell_type": "code",
   "execution_count": 69,
   "metadata": {},
   "outputs": [],
   "source": [
    "#function for determin practical significance \n",
    "def test_practical_sig(result_d, dmin, ci_left, ci_right):\n",
    "    '''\n",
    "    given previously determined practical significance boundary for each metric\n",
    "    compare result to the practical boundary to check for practical significance\n",
    "    '''\n",
    "    \n",
    "    if dmin >= 0:\n",
    "        if result_d > dmin and ci_left > dmin:\n",
    "            return 'metric is practically significant'\n",
    "        else:\n",
    "            return 'metric is not practically significant'\n",
    "    else:\n",
    "        if result_d < dmin and ci_right < dmin:\n",
    "            return 'metric is practically significant'\n",
    "        else:\n",
    "            return 'metric is not practically significant'"
   ]
  },
  {
   "cell_type": "code",
   "execution_count": 70,
   "metadata": {},
   "outputs": [
    {
     "name": "stdout",
     "output_type": "stream",
     "text": [
      "gross conversion: z-statistic = 4.701830023753982, p-value = 2.5784010337925878e-06\n"
     ]
    }
   ],
   "source": [
    "gc_zscore_r2, gc_pvalue_r2 = two_proportions_test(enrol_cont_r, cl_cont_r, enrol_exp_r, cl_exp_r)\n",
    "\n",
    "print('gross conversion: z-statistic = {}, p-value = {}'.format(gc_zscore_r2, gc_pvalue_r2))"
   ]
  },
  {
   "cell_type": "code",
   "execution_count": 71,
   "metadata": {},
   "outputs": [
    {
     "data": {
      "text/plain": [
       "'metric is practically significant'"
      ]
     },
     "execution_count": 71,
     "metadata": {},
     "output_type": "execute_result"
    }
   ],
   "source": [
    "test_practical_sig(gc_diff_r, -data_df.loc['GC','dmin'], gc_r_left, gc_r_right)"
   ]
  },
  {
   "cell_type": "markdown",
   "metadata": {},
   "source": [
    "##### net conversion analysis"
   ]
  },
  {
   "cell_type": "code",
   "execution_count": 72,
   "metadata": {},
   "outputs": [],
   "source": [
    "#compute number of payments for each group\n",
    "pm_cont_r = control_df['Payments'].sum()\n",
    "pm_exp_r = experiment_df['Payments'].sum()\n",
    "\n",
    "\n",
    "#calculate net conversion (NC) for both groups \n",
    "nc_cont_r = pm_cont_r/cl_cont_r\n",
    "nc_exp_r = pm_exp_r/cl_exp_r"
   ]
  },
  {
   "cell_type": "code",
   "execution_count": 73,
   "metadata": {},
   "outputs": [
    {
     "name": "stdout",
     "output_type": "stream",
     "text": [
      "the confidence interval for net conversion: [-0.0116, 0.0019]\n"
     ]
    }
   ],
   "source": [
    "nc_diff_r = nc_exp_r - nc_cont_r\n",
    "\n",
    "#calculate standard error pooled\n",
    "nc_sepool_r = np.sqrt(nc_exp_r*(1-nc_exp_r)/cl_exp_r + nc_cont_r*(1-nc_cont_r)/cl_cont_r)\n",
    "\n",
    "#calculate left and right of the CI\n",
    "alpha = 0.05\n",
    "nc_r_left = nc_diff_r - zscore(1-alpha/2)*nc_sepool_r\n",
    "nc_r_right = nc_diff_r + zscore(1-alpha/2)*nc_sepool_r\n",
    "print('the confidence interval for net conversion: [{}, {}]'.format(round(nc_r_left,4), round(nc_r_right,4)))"
   ]
  },
  {
   "cell_type": "code",
   "execution_count": 74,
   "metadata": {},
   "outputs": [
    {
     "name": "stdout",
     "output_type": "stream",
     "text": [
      "z-statistic: 1.4192, p-value: 0.15584068262150205\n"
     ]
    }
   ],
   "source": [
    "#another approcach using p-value\n",
    "#H0: NCcontrol = NCexp\n",
    "#Ha: NCcontrol != NCexp\n",
    "\n",
    "nc_parameter_count = np.array([pm_cont_r, pm_exp_r])\n",
    "nc_parameter_nobs = np.array([cl_cont_r, cl_exp_r])\n",
    "\n",
    "nc_zscore_r, nc_pvalue_r = proportions_ztest(nc_parameter_count, nc_parameter_nobs, 0)\n",
    "print('z-statistic: {}, p-value: {}'.format(round(nc_zscore_r,4), nc_pvalue_r))"
   ]
  },
  {
   "cell_type": "code",
   "execution_count": 77,
   "metadata": {},
   "outputs": [
    {
     "data": {
      "text/plain": [
       "-0.0048737226745441675"
      ]
     },
     "execution_count": 77,
     "metadata": {},
     "output_type": "execute_result"
    }
   ],
   "source": [
    "nc_diff_r"
   ]
  },
  {
   "cell_type": "code",
   "execution_count": 75,
   "metadata": {},
   "outputs": [
    {
     "name": "stdout",
     "output_type": "stream",
     "text": [
      "net conversion: z-statistic = 1.4192001144365733, p-value = 0.15584068262150197\n"
     ]
    }
   ],
   "source": [
    "nc_zscore_r2, nc_pvalue_r2 = two_proportions_test(pm_cont_r, cl_cont_r, pm_exp_r, cl_exp_r)\n",
    "print('net conversion: z-statistic = {}, p-value = {}'.format(nc_zscore_r2, nc_pvalue_r2))"
   ]
  },
  {
   "cell_type": "code",
   "execution_count": 76,
   "metadata": {},
   "outputs": [
    {
     "data": {
      "text/plain": [
       "'metric is not practically significant'"
      ]
     },
     "execution_count": 76,
     "metadata": {},
     "output_type": "execute_result"
    }
   ],
   "source": [
    "#determine practical significance \n",
    "test_practical_sig(nc_diff_r, data_df.loc['NC','dmin'], nc_r_left, nc_r_right)"
   ]
  },
  {
   "cell_type": "markdown",
   "metadata": {},
   "source": [
    "### Double Check with Sign Test\n",
    "\n",
    "Do a sign test for each evaluation metric using day-by-day breakdown. Check if it agrees with the confidence interval for the difference. "
   ]
  },
  {
   "cell_type": "code",
   "execution_count": 319,
   "metadata": {},
   "outputs": [
    {
     "data": {
      "text/html": [
       "<div>\n",
       "<style scoped>\n",
       "    .dataframe tbody tr th:only-of-type {\n",
       "        vertical-align: middle;\n",
       "    }\n",
       "\n",
       "    .dataframe tbody tr th {\n",
       "        vertical-align: top;\n",
       "    }\n",
       "\n",
       "    .dataframe thead th {\n",
       "        text-align: right;\n",
       "    }\n",
       "</style>\n",
       "<table border=\"1\" class=\"dataframe\">\n",
       "  <thead>\n",
       "    <tr style=\"text-align: right;\">\n",
       "      <th></th>\n",
       "      <th>Date_cont</th>\n",
       "      <th>Pageviews_cont</th>\n",
       "      <th>Clicks_cont</th>\n",
       "      <th>Enrollments_cont</th>\n",
       "      <th>Payments_cont</th>\n",
       "      <th>Date_exp</th>\n",
       "      <th>Pageviews_exp</th>\n",
       "      <th>Clicks_exp</th>\n",
       "      <th>Enrollments_exp</th>\n",
       "      <th>Payments_exp</th>\n",
       "    </tr>\n",
       "  </thead>\n",
       "  <tbody>\n",
       "    <tr>\n",
       "      <th>0</th>\n",
       "      <td>Sat, Oct 11</td>\n",
       "      <td>7723</td>\n",
       "      <td>687</td>\n",
       "      <td>134.0</td>\n",
       "      <td>70.0</td>\n",
       "      <td>Sat, Oct 11</td>\n",
       "      <td>7716</td>\n",
       "      <td>686</td>\n",
       "      <td>105.0</td>\n",
       "      <td>34.0</td>\n",
       "    </tr>\n",
       "    <tr>\n",
       "      <th>1</th>\n",
       "      <td>Sun, Oct 12</td>\n",
       "      <td>9102</td>\n",
       "      <td>779</td>\n",
       "      <td>147.0</td>\n",
       "      <td>70.0</td>\n",
       "      <td>Sun, Oct 12</td>\n",
       "      <td>9288</td>\n",
       "      <td>785</td>\n",
       "      <td>116.0</td>\n",
       "      <td>91.0</td>\n",
       "    </tr>\n",
       "    <tr>\n",
       "      <th>2</th>\n",
       "      <td>Mon, Oct 13</td>\n",
       "      <td>10511</td>\n",
       "      <td>909</td>\n",
       "      <td>167.0</td>\n",
       "      <td>95.0</td>\n",
       "      <td>Mon, Oct 13</td>\n",
       "      <td>10480</td>\n",
       "      <td>884</td>\n",
       "      <td>145.0</td>\n",
       "      <td>79.0</td>\n",
       "    </tr>\n",
       "    <tr>\n",
       "      <th>3</th>\n",
       "      <td>Tue, Oct 14</td>\n",
       "      <td>9871</td>\n",
       "      <td>836</td>\n",
       "      <td>156.0</td>\n",
       "      <td>105.0</td>\n",
       "      <td>Tue, Oct 14</td>\n",
       "      <td>9867</td>\n",
       "      <td>827</td>\n",
       "      <td>138.0</td>\n",
       "      <td>92.0</td>\n",
       "    </tr>\n",
       "    <tr>\n",
       "      <th>4</th>\n",
       "      <td>Wed, Oct 15</td>\n",
       "      <td>10014</td>\n",
       "      <td>837</td>\n",
       "      <td>163.0</td>\n",
       "      <td>64.0</td>\n",
       "      <td>Wed, Oct 15</td>\n",
       "      <td>9793</td>\n",
       "      <td>832</td>\n",
       "      <td>140.0</td>\n",
       "      <td>94.0</td>\n",
       "    </tr>\n",
       "  </tbody>\n",
       "</table>\n",
       "</div>"
      ],
      "text/plain": [
       "     Date_cont  Pageviews_cont  Clicks_cont  Enrollments_cont  Payments_cont  \\\n",
       "0  Sat, Oct 11            7723          687             134.0           70.0   \n",
       "1  Sun, Oct 12            9102          779             147.0           70.0   \n",
       "2  Mon, Oct 13           10511          909             167.0           95.0   \n",
       "3  Tue, Oct 14            9871          836             156.0          105.0   \n",
       "4  Wed, Oct 15           10014          837             163.0           64.0   \n",
       "\n",
       "      Date_exp  Pageviews_exp  Clicks_exp  Enrollments_exp  Payments_exp  \n",
       "0  Sat, Oct 11           7716         686            105.0          34.0  \n",
       "1  Sun, Oct 12           9288         785            116.0          91.0  \n",
       "2  Mon, Oct 13          10480         884            145.0          79.0  \n",
       "3  Tue, Oct 14           9867         827            138.0          92.0  \n",
       "4  Wed, Oct 15           9793         832            140.0          94.0  "
      ]
     },
     "execution_count": 319,
     "metadata": {},
     "output_type": "execute_result"
    }
   ],
   "source": [
    "#merge the two datasets\n",
    "result_all = control_df.join(experiment_df, how='inner', lsuffix='_cont', rsuffix='_exp')\n",
    "result_all.head()"
   ]
  },
  {
   "cell_type": "code",
   "execution_count": 320,
   "metadata": {},
   "outputs": [
    {
     "name": "stdout",
     "output_type": "stream",
     "text": [
      "<class 'pandas.core.frame.DataFrame'>\n",
      "Int64Index: 23 entries, 0 to 22\n",
      "Data columns (total 10 columns):\n",
      " #   Column            Non-Null Count  Dtype  \n",
      "---  ------            --------------  -----  \n",
      " 0   Date_cont         23 non-null     object \n",
      " 1   Pageviews_cont    23 non-null     int64  \n",
      " 2   Clicks_cont       23 non-null     int64  \n",
      " 3   Enrollments_cont  23 non-null     float64\n",
      " 4   Payments_cont     23 non-null     float64\n",
      " 5   Date_exp          23 non-null     object \n",
      " 6   Pageviews_exp     23 non-null     int64  \n",
      " 7   Clicks_exp        23 non-null     int64  \n",
      " 8   Enrollments_exp   23 non-null     float64\n",
      " 9   Payments_exp      23 non-null     float64\n",
      "dtypes: float64(4), int64(4), object(2)\n",
      "memory usage: 2.0+ KB\n"
     ]
    }
   ],
   "source": [
    "result_all = result_all.loc[result_all['Enrollments_cont'].notnull()]\n",
    "result_all.info()"
   ]
  },
  {
   "cell_type": "code",
   "execution_count": 321,
   "metadata": {},
   "outputs": [],
   "source": [
    "#check daily if the experiment result is greater than control result\n",
    "\n",
    "#gross conversion\n",
    "signt_gc_cont = result_all['Enrollments_cont']/result_all['Clicks_cont']\n",
    "signt_gc_exp = result_all['Enrollments_exp']/result_all['Clicks_exp']\n",
    "result_all['gc_test'] = np.where(signt_gc_cont < signt_gc_exp, 1, 0)\n",
    "\n",
    "#net conversion\n",
    "signt_nc_cont = result_all['Payments_cont']/result_all['Clicks_cont']\n",
    "signt_nc_exp = result_all['Payments_exp']/result_all['Clicks_exp']\n",
    "result_all['nc_test'] = np.where(signt_nc_cont < signt_nc_exp, 1, 0)\n"
   ]
  },
  {
   "cell_type": "code",
   "execution_count": 322,
   "metadata": {},
   "outputs": [
    {
     "data": {
      "text/html": [
       "<div>\n",
       "<style scoped>\n",
       "    .dataframe tbody tr th:only-of-type {\n",
       "        vertical-align: middle;\n",
       "    }\n",
       "\n",
       "    .dataframe tbody tr th {\n",
       "        vertical-align: top;\n",
       "    }\n",
       "\n",
       "    .dataframe thead th {\n",
       "        text-align: right;\n",
       "    }\n",
       "</style>\n",
       "<table border=\"1\" class=\"dataframe\">\n",
       "  <thead>\n",
       "    <tr style=\"text-align: right;\">\n",
       "      <th></th>\n",
       "      <th>Date_cont</th>\n",
       "      <th>Pageviews_cont</th>\n",
       "      <th>Clicks_cont</th>\n",
       "      <th>Enrollments_cont</th>\n",
       "      <th>Payments_cont</th>\n",
       "      <th>Date_exp</th>\n",
       "      <th>Pageviews_exp</th>\n",
       "      <th>Clicks_exp</th>\n",
       "      <th>Enrollments_exp</th>\n",
       "      <th>Payments_exp</th>\n",
       "      <th>gc_test</th>\n",
       "      <th>nc_test</th>\n",
       "    </tr>\n",
       "  </thead>\n",
       "  <tbody>\n",
       "    <tr>\n",
       "      <th>0</th>\n",
       "      <td>Sat, Oct 11</td>\n",
       "      <td>7723</td>\n",
       "      <td>687</td>\n",
       "      <td>134.0</td>\n",
       "      <td>70.0</td>\n",
       "      <td>Sat, Oct 11</td>\n",
       "      <td>7716</td>\n",
       "      <td>686</td>\n",
       "      <td>105.0</td>\n",
       "      <td>34.0</td>\n",
       "      <td>0</td>\n",
       "      <td>0</td>\n",
       "    </tr>\n",
       "    <tr>\n",
       "      <th>1</th>\n",
       "      <td>Sun, Oct 12</td>\n",
       "      <td>9102</td>\n",
       "      <td>779</td>\n",
       "      <td>147.0</td>\n",
       "      <td>70.0</td>\n",
       "      <td>Sun, Oct 12</td>\n",
       "      <td>9288</td>\n",
       "      <td>785</td>\n",
       "      <td>116.0</td>\n",
       "      <td>91.0</td>\n",
       "      <td>0</td>\n",
       "      <td>1</td>\n",
       "    </tr>\n",
       "    <tr>\n",
       "      <th>2</th>\n",
       "      <td>Mon, Oct 13</td>\n",
       "      <td>10511</td>\n",
       "      <td>909</td>\n",
       "      <td>167.0</td>\n",
       "      <td>95.0</td>\n",
       "      <td>Mon, Oct 13</td>\n",
       "      <td>10480</td>\n",
       "      <td>884</td>\n",
       "      <td>145.0</td>\n",
       "      <td>79.0</td>\n",
       "      <td>0</td>\n",
       "      <td>0</td>\n",
       "    </tr>\n",
       "    <tr>\n",
       "      <th>3</th>\n",
       "      <td>Tue, Oct 14</td>\n",
       "      <td>9871</td>\n",
       "      <td>836</td>\n",
       "      <td>156.0</td>\n",
       "      <td>105.0</td>\n",
       "      <td>Tue, Oct 14</td>\n",
       "      <td>9867</td>\n",
       "      <td>827</td>\n",
       "      <td>138.0</td>\n",
       "      <td>92.0</td>\n",
       "      <td>0</td>\n",
       "      <td>0</td>\n",
       "    </tr>\n",
       "    <tr>\n",
       "      <th>4</th>\n",
       "      <td>Wed, Oct 15</td>\n",
       "      <td>10014</td>\n",
       "      <td>837</td>\n",
       "      <td>163.0</td>\n",
       "      <td>64.0</td>\n",
       "      <td>Wed, Oct 15</td>\n",
       "      <td>9793</td>\n",
       "      <td>832</td>\n",
       "      <td>140.0</td>\n",
       "      <td>94.0</td>\n",
       "      <td>0</td>\n",
       "      <td>1</td>\n",
       "    </tr>\n",
       "  </tbody>\n",
       "</table>\n",
       "</div>"
      ],
      "text/plain": [
       "     Date_cont  Pageviews_cont  Clicks_cont  Enrollments_cont  Payments_cont  \\\n",
       "0  Sat, Oct 11            7723          687             134.0           70.0   \n",
       "1  Sun, Oct 12            9102          779             147.0           70.0   \n",
       "2  Mon, Oct 13           10511          909             167.0           95.0   \n",
       "3  Tue, Oct 14            9871          836             156.0          105.0   \n",
       "4  Wed, Oct 15           10014          837             163.0           64.0   \n",
       "\n",
       "      Date_exp  Pageviews_exp  Clicks_exp  Enrollments_exp  Payments_exp  \\\n",
       "0  Sat, Oct 11           7716         686            105.0          34.0   \n",
       "1  Sun, Oct 12           9288         785            116.0          91.0   \n",
       "2  Mon, Oct 13          10480         884            145.0          79.0   \n",
       "3  Tue, Oct 14           9867         827            138.0          92.0   \n",
       "4  Wed, Oct 15           9793         832            140.0          94.0   \n",
       "\n",
       "   gc_test  nc_test  \n",
       "0        0        0  \n",
       "1        0        1  \n",
       "2        0        0  \n",
       "3        0        0  \n",
       "4        0        1  "
      ]
     },
     "execution_count": 322,
     "metadata": {},
     "output_type": "execute_result"
    }
   ],
   "source": [
    "result_all.head()"
   ]
  },
  {
   "cell_type": "code",
   "execution_count": 329,
   "metadata": {},
   "outputs": [],
   "source": [
    "#count number to true for both metrics\n",
    "gc_true = result_all['gc_test'][result_all['gc_test']==1].sum()\n",
    "nc_true = result_all['nc_test'][result_all['nc_test']==1].sum()\n",
    "\n",
    "#count total number of cases(days)\n",
    "n_total = len(result_all.index)"
   ]
  },
  {
   "cell_type": "code",
   "execution_count": 338,
   "metadata": {},
   "outputs": [
    {
     "name": "stdout",
     "output_type": "stream",
     "text": [
      "gross conversion: sign test passed, change is significant\n"
     ]
    }
   ],
   "source": [
    "#getting pvalues of the sign test using built in library binom_test\n",
    "gc_signt_pvalue = stats.binom_test(gc_true, n_total, 0.5, 'two-sided')\n",
    "if gc_signt_pvalue < 0.05:\n",
    "    print('gross conversion: sign test passed, change is significant')\n",
    "else:\n",
    "    print('gross conversion: sign test not passed, change is not significant ')\n",
    "\n"
   ]
  },
  {
   "cell_type": "code",
   "execution_count": 339,
   "metadata": {},
   "outputs": [
    {
     "name": "stdout",
     "output_type": "stream",
     "text": [
      "net conversion: sign test not passed, change is not significant \n"
     ]
    }
   ],
   "source": [
    "nc_signt_pvalue = stats.binom_test(nc_true, n_total, 0.5, 'two-sided')\n",
    "if nc_signt_pvalue < 0.05:\n",
    "    print('net conversion: sign test passed, change is significant')\n",
    "else:\n",
    "    print('net conversion: sign test not passed, change is not significant ')\n"
   ]
  },
  {
   "cell_type": "code",
   "execution_count": 340,
   "metadata": {},
   "outputs": [
    {
     "data": {
      "text/plain": [
       "0.0025994777679443364"
      ]
     },
     "execution_count": 340,
     "metadata": {},
     "output_type": "execute_result"
    }
   ],
   "source": [
    "gc_signt_pvalue"
   ]
  },
  {
   "cell_type": "code",
   "execution_count": 341,
   "metadata": {},
   "outputs": [
    {
     "data": {
      "text/plain": [
       "0.6776394844055175"
      ]
     },
     "execution_count": 341,
     "metadata": {},
     "output_type": "execute_result"
    }
   ],
   "source": [
    "nc_signt_pvalue"
   ]
  },
  {
   "cell_type": "code",
   "execution_count": null,
   "metadata": {},
   "outputs": [],
   "source": []
  }
 ],
 "metadata": {
  "kernelspec": {
   "display_name": "Python 3",
   "language": "python",
   "name": "python3"
  },
  "language_info": {
   "codemirror_mode": {
    "name": "ipython",
    "version": 3
   },
   "file_extension": ".py",
   "mimetype": "text/x-python",
   "name": "python",
   "nbconvert_exporter": "python",
   "pygments_lexer": "ipython3",
   "version": "3.6.8"
  }
 },
 "nbformat": 4,
 "nbformat_minor": 2
}
